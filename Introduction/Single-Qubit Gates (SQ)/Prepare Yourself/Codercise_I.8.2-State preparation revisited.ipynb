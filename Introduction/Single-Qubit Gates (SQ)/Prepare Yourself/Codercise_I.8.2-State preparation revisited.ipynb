{
 "cells": [
  {
   "cell_type": "code",
   "execution_count": 2,
   "id": "d9f34354",
   "metadata": {},
   "outputs": [],
   "source": [
    "import pennylane as qml\n",
    "import pennylane.numpy as np"
   ]
  },
  {
   "cell_type": "code",
   "execution_count": 6,
   "id": "f606c2f5",
   "metadata": {},
   "outputs": [
    {
     "name": "stdout",
     "output_type": "stream",
     "text": [
      "[0.61237244+0.61237244j 0.35355339-0.35355339j]\n"
     ]
    }
   ],
   "source": [
    "dev = qml.device('default.qubit', wires = 1)\n",
    "@qml.qnode(dev)\n",
    "def prepare_state():\n",
    "    qml.RY(np.pi/3, wires = 0)\n",
    "    qml.RZ(-np.pi/2, wires = 0)\n",
    "    return qml.state()\n",
    "\n",
    "print(prepare_state())"
   ]
  },
  {
   "cell_type": "code",
   "execution_count": null,
   "id": "97e2ab29",
   "metadata": {},
   "outputs": [],
   "source": []
  }
 ],
 "metadata": {
  "kernelspec": {
   "display_name": ".venv",
   "language": "python",
   "name": "python3"
  },
  "language_info": {
   "codemirror_mode": {
    "name": "ipython",
    "version": 3
   },
   "file_extension": ".py",
   "mimetype": "text/x-python",
   "name": "python",
   "nbconvert_exporter": "python",
   "pygments_lexer": "ipython3",
   "version": "3.10.6"
  }
 },
 "nbformat": 4,
 "nbformat_minor": 5
}
