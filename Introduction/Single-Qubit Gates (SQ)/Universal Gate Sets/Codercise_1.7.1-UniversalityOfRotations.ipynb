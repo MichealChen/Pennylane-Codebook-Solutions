{
 "cells": [
  {
   "cell_type": "code",
   "execution_count": 1,
   "id": "200ae92f",
   "metadata": {},
   "outputs": [],
   "source": [
    "import pennylane as qml\n",
    "from pennylane import numpy as np"
   ]
  },
  {
   "cell_type": "code",
   "execution_count": 39,
   "id": "a8228fe6",
   "metadata": {},
   "outputs": [],
   "source": [
    "dev = qml.device('default.qubit', wires = 1)\n",
    "phi, theta, omega = np.pi, np.pi/2, np.pi\n",
    "@qml.qnode(dev)\n",
    "def hadamard_with_rz_rx():\n",
    "    qml.RZ(phi, wires = 0)\n",
    "    qml.RX(theta, wires = 0)\n",
    "    qml.RZ(omega, wires = 0)\n",
    "    return qml.state()"
   ]
  },
  {
   "cell_type": "code",
   "execution_count": 40,
   "id": "8ecf64ce",
   "metadata": {},
   "outputs": [
    {
     "name": "stdout",
     "output_type": "stream",
     "text": [
      "[-0.70710678-8.65956056e-17j  0.        -7.07106781e-01j]\n"
     ]
    }
   ],
   "source": [
    "print(hadamard_with_rz_rx())"
   ]
  },
  {
   "cell_type": "code",
   "execution_count": 13,
   "id": "07692828",
   "metadata": {},
   "outputs": [
    {
     "name": "stdout",
     "output_type": "stream",
     "text": [
      "Decomposed: [ 4.32978028e-17-4.32978028e-17j -7.07106781e-01-7.07106781e-01j]\n",
      "Hadamard:   [0.70710678+0.j 0.70710678+0.j]\n"
     ]
    }
   ],
   "source": [
    "dev = qml.device(\"default.qubit\", wires=1)\n",
    "\n",
    "@qml.qnode(dev)\n",
    "def decomp_hadamard():\n",
    "    qml.RZ(np.pi / 2, wires=0)\n",
    "    qml.RX(np.pi, wires=0)\n",
    "    qml.RZ(0.0, wires=0)\n",
    "    return qml.state()\n",
    "\n",
    "@qml.qnode(dev)\n",
    "def direct_hadamard():\n",
    "    qml.Hadamard(wires=0)\n",
    "    return qml.state()\n",
    "\n",
    "print(\"Decomposed:\", decomp_hadamard())\n",
    "print(\"Hadamard:  \", direct_hadamard())\n"
   ]
  },
  {
   "cell_type": "code",
   "execution_count": null,
   "id": "c8f33dd1",
   "metadata": {},
   "outputs": [],
   "source": []
  }
 ],
 "metadata": {
  "kernelspec": {
   "display_name": ".venv",
   "language": "python",
   "name": "python3"
  },
  "language_info": {
   "codemirror_mode": {
    "name": "ipython",
    "version": 3
   },
   "file_extension": ".py",
   "mimetype": "text/x-python",
   "name": "python",
   "nbconvert_exporter": "python",
   "pygments_lexer": "ipython3",
   "version": "3.10.6"
  }
 },
 "nbformat": 4,
 "nbformat_minor": 5
}
