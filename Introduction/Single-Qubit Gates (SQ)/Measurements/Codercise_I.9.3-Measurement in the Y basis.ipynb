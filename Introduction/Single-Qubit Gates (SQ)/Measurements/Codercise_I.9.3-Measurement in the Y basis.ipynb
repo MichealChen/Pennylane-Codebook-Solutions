{
 "cells": [
  {
   "cell_type": "code",
   "execution_count": 1,
   "id": "f797733d",
   "metadata": {},
   "outputs": [],
   "source": [
    "import pennylane as qml\n",
    "from pennylane import numpy as np"
   ]
  },
  {
   "cell_type": "code",
   "execution_count": 2,
   "id": "983409ec",
   "metadata": {},
   "outputs": [],
   "source": [
    "def prepare_psi():\n",
    "    qml.RX(-np.pi*(2/3), wires = 0)\n",
    "\n",
    "\n",
    "def y_basis_rotation():\n",
    "    qml.Hadamard(wires = 0)\n",
    "    qml.adjoint(qml.S)(wires = 0)\n",
    "\n",
    "dev = qml.device('default.qubit', wires = 0)\n",
    "@qml.qnode(dev)\n",
    "def measure_in_y_basis():\n",
    "    prepare_psi()\n",
    "    qml.adjoint(qml.S)(wires = 0)\n",
    "    qml.Hadamard(wires = 0)\n",
    "\n",
    "    return qml.probs(wires = 0)"
   ]
  },
  {
   "cell_type": "code",
   "execution_count": 3,
   "id": "6a9e5efc",
   "metadata": {},
   "outputs": [
    {
     "name": "stdout",
     "output_type": "stream",
     "text": [
      "[0.9330127 0.0669873]\n"
     ]
    }
   ],
   "source": [
    "print(measure_in_y_basis())"
   ]
  },
  {
   "cell_type": "code",
   "execution_count": null,
   "id": "96437ee2",
   "metadata": {},
   "outputs": [],
   "source": []
  }
 ],
 "metadata": {
  "kernelspec": {
   "display_name": ".venv",
   "language": "python",
   "name": "python3"
  },
  "language_info": {
   "codemirror_mode": {
    "name": "ipython",
    "version": 3
   },
   "file_extension": ".py",
   "mimetype": "text/x-python",
   "name": "python",
   "nbconvert_exporter": "python",
   "pygments_lexer": "ipython3",
   "version": "3.10.6"
  }
 },
 "nbformat": 4,
 "nbformat_minor": 5
}
