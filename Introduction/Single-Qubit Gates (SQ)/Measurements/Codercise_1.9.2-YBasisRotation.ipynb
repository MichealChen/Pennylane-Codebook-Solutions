{
 "cells": [
  {
   "cell_type": "code",
   "execution_count": 1,
   "id": "82241641",
   "metadata": {},
   "outputs": [],
   "source": [
    "import pennylane as qml\n",
    "from pennylane import numpy as np\n",
    "import matplotlib.pyplot as plt"
   ]
  },
  {
   "cell_type": "markdown",
   "id": "e34f170e",
   "metadata": {},
   "source": [
    "Preparation of the initial state, using RX gate: \n",
    "$$\n",
    "|\\psi \\rangle  = \\frac{1}{2}|0\\rangle + i\\frac{\\sqrt{3}}{2}|1\\rangle \n",
    "$$\n",
    "\n",
    "The matrix representation of RX gate:\n",
    "$$\n",
    "RX(\\theta) = \n",
    "\\begin{bmatrix}\n",
    "\\cos\\left(\\frac{\\theta}{2}\\right) & -i\\sin\\left(\\frac{\\theta}{2}\\right) \\\\\n",
    "-i\\sin\\left(\\frac{\\theta}{2}\\right) & \\cos\\left(\\frac{\\theta}{2}\\right)\n",
    "\\end{bmatrix}\n",
    "$$"
   ]
  },
  {
   "cell_type": "code",
   "execution_count": null,
   "id": "17a31342",
   "metadata": {},
   "outputs": [],
   "source": [
    "def prepare_psi():\n",
    "    qml.RX(-np.pi*(2/3), wires = 0)\n",
    "\n",
    "def y_basis_rotation():\n",
    "    qml.Hadamard(wires = 0)\n",
    "    qml.S(wires = 0)\n",
    "# I like this form better."
   ]
  },
  {
   "cell_type": "code",
   "execution_count": null,
   "id": "753411ae",
   "metadata": {},
   "outputs": [],
   "source": []
  }
 ],
 "metadata": {
  "kernelspec": {
   "display_name": ".venv",
   "language": "python",
   "name": "python3"
  },
  "language_info": {
   "codemirror_mode": {
    "name": "ipython",
    "version": 3
   },
   "file_extension": ".py",
   "mimetype": "text/x-python",
   "name": "python",
   "nbconvert_exporter": "python",
   "pygments_lexer": "ipython3",
   "version": "3.10.6"
  }
 },
 "nbformat": 4,
 "nbformat_minor": 5
}
