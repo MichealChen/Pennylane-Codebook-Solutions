{
 "cells": [
  {
   "cell_type": "code",
   "execution_count": 1,
   "id": "32f359d5",
   "metadata": {},
   "outputs": [],
   "source": [
    "import pennylane as qml\n",
    "from pennylane import numpy as np"
   ]
  },
  {
   "cell_type": "code",
   "execution_count": 5,
   "id": "0c03ad0a",
   "metadata": {},
   "outputs": [],
   "source": [
    "dev = qml.device('default.qubit', wires = 1, shots = 100000)\n",
    "@qml.qnode(dev)\n",
    "def circuit():\n",
    "    qml.RX(np.pi/4, wires = 0)\n",
    "    qml.Hadamard(wires = 0)\n",
    "    qml.PauliZ(wires = 0)\n",
    "\n",
    "    return qml.sample(qml.PauliY(wires = 0))"
   ]
  },
  {
   "cell_type": "code",
   "execution_count": 6,
   "id": "6bdb8a75",
   "metadata": {},
   "outputs": [
    {
     "name": "stdout",
     "output_type": "stream",
     "text": [
      "[-1. -1. -1. ... -1. -1. -1.]\n"
     ]
    }
   ],
   "source": [
    "print(circuit())"
   ]
  },
  {
   "cell_type": "code",
   "execution_count": 9,
   "id": "c81d2b15",
   "metadata": {},
   "outputs": [],
   "source": [
    "def compute_expval_from_samples(samples):\n",
    "    estimated_expval = 0\n",
    "    for i in range(len(samples)):\n",
    "        estimated_expval += samples[i]\n",
    "\n",
    "    return estimated_expval/len(samples)"
   ]
  },
  {
   "cell_type": "code",
   "execution_count": 8,
   "id": "a5cad210",
   "metadata": {},
   "outputs": [
    {
     "name": "stdout",
     "output_type": "stream",
     "text": [
      "-0.70638\n"
     ]
    }
   ],
   "source": [
    "print(compute_expval_from_samples(circuit()))"
   ]
  },
  {
   "cell_type": "code",
   "execution_count": null,
   "id": "e290e133",
   "metadata": {},
   "outputs": [],
   "source": []
  }
 ],
 "metadata": {
  "kernelspec": {
   "display_name": ".venv",
   "language": "python",
   "name": "python3"
  },
  "language_info": {
   "codemirror_mode": {
    "name": "ipython",
    "version": 3
   },
   "file_extension": ".py",
   "mimetype": "text/x-python",
   "name": "python",
   "nbconvert_exporter": "python",
   "pygments_lexer": "ipython3",
   "version": "3.10.6"
  }
 },
 "nbformat": 4,
 "nbformat_minor": 5
}
