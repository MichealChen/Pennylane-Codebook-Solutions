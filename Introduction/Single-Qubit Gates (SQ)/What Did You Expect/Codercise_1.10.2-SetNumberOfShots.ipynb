{
 "cells": [
  {
   "cell_type": "code",
   "execution_count": 1,
   "id": "9972eb87",
   "metadata": {},
   "outputs": [],
   "source": [
    "import pennylane as qml\n",
    "from pennylane import numpy as np"
   ]
  },
  {
   "cell_type": "code",
   "execution_count": 7,
   "id": "314e5058",
   "metadata": {},
   "outputs": [],
   "source": [
    "# An array to store your results\n",
    "shot_results = []\n",
    "\n",
    "# Different numbers of shots\n",
    "shot_values = [100, 1000, 10000, 100000, 1000000]\n",
    "\n",
    "for shots in shot_values:\n",
    "    dev = qml.device('default.qubit', wires = 1, shots = shots)\n",
    "\n",
    "    @qml.qnode(dev)\n",
    "    def circuit():\n",
    "        qml.RX(np.pi/4, wires = 0)\n",
    "        qml.Hadamard(wires = 0)\n",
    "        qml.PauliZ(wires = 0)\n",
    "        return qml.expval(qml.PauliY(wires = 0))\n",
    "    \n",
    "    result = circuit()\n",
    "    shot_results.append(result)\n"
   ]
  },
  {
   "cell_type": "code",
   "execution_count": 8,
   "id": "9a815687",
   "metadata": {},
   "outputs": [
    {
     "name": "stdout",
     "output_type": "stream",
     "text": [
      "[-0.62, -0.678, -0.7094, -0.70698, -0.706358]\n"
     ]
    }
   ],
   "source": [
    "print(qml.math.unwrap(shots_results))\n"
   ]
  },
  {
   "cell_type": "code",
   "execution_count": null,
   "id": "21fe284f",
   "metadata": {},
   "outputs": [],
   "source": []
  }
 ],
 "metadata": {
  "kernelspec": {
   "display_name": ".venv",
   "language": "python",
   "name": "python3"
  },
  "language_info": {
   "codemirror_mode": {
    "name": "ipython",
    "version": 3
   },
   "file_extension": ".py",
   "mimetype": "text/x-python",
   "name": "python",
   "nbconvert_exporter": "python",
   "pygments_lexer": "ipython3",
   "version": "3.10.6"
  }
 },
 "nbformat": 4,
 "nbformat_minor": 5
}
