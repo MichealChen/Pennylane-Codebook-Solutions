{
 "cells": [
  {
   "cell_type": "code",
   "execution_count": 1,
   "id": "a8d42505",
   "metadata": {},
   "outputs": [],
   "source": [
    "import pennylane as qml\n",
    "from pennylane import numpy as np"
   ]
  },
  {
   "cell_type": "code",
   "execution_count": 3,
   "id": "51b52629",
   "metadata": {},
   "outputs": [
    {
     "name": "stdout",
     "output_type": "stream",
     "text": [
      "[[0.97766824+0.j        0.        +0.j        0.        +0.j\n",
      "  0.        +0.1477601j]\n",
      " [0.        +0.j        0.        +0.j        0.        +0.j\n",
      "  0.        +0.j       ]\n",
      " [0.        +0.j        0.        +0.j        0.        +0.j\n",
      "  0.        +0.j       ]\n",
      " [0.        -0.1477601j 0.        +0.j        0.        +0.j\n",
      "  0.02233176+0.j       ]]\n"
     ]
    }
   ],
   "source": [
    "dev_qubit = qml.device(\"default.qubit\", wires = [\"alice\",\"bob\"])# Define the device here\n",
    "dev_mixed = qml.device(\"default.mixed\", wires = 2)# Define the device here\n",
    "\n",
    "@qml.qnode(dev_mixed) # Choose the device you want\n",
    "def example_circuit(theta):\n",
    "    \n",
    "    qml.RX(theta, wires = 0) # Complete with wires in the device\n",
    "    qml.CNOT(wires = [0, 1] ) # Complete with wires in the device\n",
    "    \n",
    "    return qml.state()\n",
    "\n",
    "print(example_circuit(0.3))"
   ]
  },
  {
   "cell_type": "code",
   "execution_count": null,
   "id": "3f275068",
   "metadata": {},
   "outputs": [],
   "source": []
  }
 ],
 "metadata": {
  "kernelspec": {
   "display_name": ".venv",
   "language": "python",
   "name": "python3"
  },
  "language_info": {
   "codemirror_mode": {
    "name": "ipython",
    "version": 3
   },
   "file_extension": ".py",
   "mimetype": "text/x-python",
   "name": "python",
   "nbconvert_exporter": "python",
   "pygments_lexer": "ipython3",
   "version": "3.10.6"
  }
 },
 "nbformat": 4,
 "nbformat_minor": 5
}
