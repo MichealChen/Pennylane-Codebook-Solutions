{
 "cells": [
  {
   "cell_type": "code",
   "execution_count": 1,
   "id": "70e6ae5d",
   "metadata": {},
   "outputs": [],
   "source": [
    "import pennylane as qml\n",
    "from pennylane import numpy as np"
   ]
  },
  {
   "cell_type": "code",
   "execution_count": null,
   "id": "733e86d5",
   "metadata": {},
   "outputs": [],
   "source": [
    "def subcircuit_1(angle, wire_list):\n",
    "    \"\"\"\n",
    "    Implements the first subcircuit as a function of the RX gate angle\n",
    "    and the list of wires wire_list on which the gates are applied\n",
    "    \"\"\"\n",
    "\n",
    "    qml.RX(angle, wires = wire_list[0])\n",
    "    qml.PauliY(wires = wire_list[1])\n",
    "\n",
    "\n",
    "def subcircuit_2(wire_list):\n",
    "    \"\"\"\n",
    "    Implements the second subcircuit as a function of the list of wires \n",
    "    wire_list on which the gates are applied\n",
    "    \"\"\"\n",
    "\n",
    "    qml.Hadamard(wires = wire_list[0])\n",
    "    qml.CNOT(wires = [wire_list[0], wire_list[1]])\n",
    "\n",
    "\n",
    "dev = qml.device(\"default.qubit\", wires = [0,1])\n",
    "\n",
    "@qml.qnode(dev)\n",
    "def full_circuit(theta, phi):\n",
    "    \"\"\"\n",
    "    Builds the full quantum circuit given the input parameters\n",
    "    \"\"\"\n",
    "\n",
    "\n",
    "    subcircuit_1(theta, [0, 1])\n",
    "    subcircuit_2([0, 1])\n",
    "    subcircuit_1(phi, [1, 0])\n",
    " \n",
    "\n",
    "    return qml.state()"
   ]
  },
  {
   "cell_type": "code",
   "execution_count": null,
   "id": "4bc208ef",
   "metadata": {},
   "outputs": [],
   "source": []
  }
 ],
 "metadata": {
  "kernelspec": {
   "display_name": ".venv",
   "language": "python",
   "name": "python3"
  },
  "language_info": {
   "codemirror_mode": {
    "name": "ipython",
    "version": 3
   },
   "file_extension": ".py",
   "mimetype": "text/x-python",
   "name": "python",
   "nbconvert_exporter": "python",
   "pygments_lexer": "ipython3",
   "version": "3.10.6"
  }
 },
 "nbformat": 4,
 "nbformat_minor": 5
}
