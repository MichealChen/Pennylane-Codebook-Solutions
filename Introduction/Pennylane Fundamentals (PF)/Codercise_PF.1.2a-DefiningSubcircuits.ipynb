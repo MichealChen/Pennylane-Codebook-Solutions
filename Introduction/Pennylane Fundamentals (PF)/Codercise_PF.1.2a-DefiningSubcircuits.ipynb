{
 "cells": [
  {
   "cell_type": "code",
   "execution_count": 1,
   "id": "e10d5bf7",
   "metadata": {},
   "outputs": [],
   "source": [
    "import pennylane as qml\n",
    "from pennylane import numpy as np"
   ]
  },
  {
   "cell_type": "code",
   "execution_count": null,
   "id": "bc1418d9",
   "metadata": {},
   "outputs": [],
   "source": [
    "def subcircuit_1(angle):\n",
    "\n",
    "    ####################\n",
    "    ###YOUR CODE HERE###\n",
    "    qml.RX(angle, wires = 0)\n",
    "    qml.PauliY(wires = 1)\n",
    "    ####################\n",
    "\n",
    "    # No need to return anything\n",
    "\n",
    "def subcircuit_2():\n",
    "\n",
    "    ####################\n",
    "    ###YOUR CODE HERE###\n",
    "    qml.Hadamard(wires = 0)\n",
    "    qml.CNOT(wires = [0, 1])\n",
    "    ####################\n",
    "\n",
    "    # No need to return anything\n",
    "\n",
    "dev = qml.device('default.qubit', wires = 2)\n",
    "@qml.qnode(dev)\n",
    "# Decorate this function to create a QNode\n",
    "def full_circuit(theta, phi):\n",
    "\n",
    "    subcircuit_1(theta)\n",
    "    subcircuit_2()\n",
    "    subcircuit_1(phi)\n",
    "\n",
    "    return qml.state()"
   ]
  },
  {
   "cell_type": "code",
   "execution_count": null,
   "id": "408a5a12",
   "metadata": {},
   "outputs": [],
   "source": []
  }
 ],
 "metadata": {
  "kernelspec": {
   "display_name": ".venv",
   "language": "python",
   "name": "python3"
  },
  "language_info": {
   "codemirror_mode": {
    "name": "ipython",
    "version": 3
   },
   "file_extension": ".py",
   "mimetype": "text/x-python",
   "name": "python",
   "nbconvert_exporter": "python",
   "pygments_lexer": "ipython3",
   "version": "3.10.6"
  }
 },
 "nbformat": 4,
 "nbformat_minor": 5
}
