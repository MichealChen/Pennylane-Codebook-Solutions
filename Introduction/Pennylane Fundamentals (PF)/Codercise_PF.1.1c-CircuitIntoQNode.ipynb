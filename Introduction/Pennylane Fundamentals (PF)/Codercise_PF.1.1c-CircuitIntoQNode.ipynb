{
 "cells": [
  {
   "cell_type": "code",
   "execution_count": 1,
   "id": "24cbd03f",
   "metadata": {},
   "outputs": [],
   "source": [
    "import pennylane as qml\n",
    "from pennylane import numpy as np"
   ]
  },
  {
   "cell_type": "code",
   "execution_count": 2,
   "id": "0f7188df",
   "metadata": {},
   "outputs": [
    {
     "name": "stdout",
     "output_type": "stream",
     "text": [
      "[-0.10566872+0.j  0.69916673+0.j  0.69916673+0.j  0.10566872+0.j]\n"
     ]
    }
   ],
   "source": [
    "dev = qml.device(\"default.qubit\", wires = 2)# Define the device\n",
    "def circuit(phi):\n",
    "    qml.Hadamard(wires = 0)\n",
    "    qml.PauliX(wires = 1)\n",
    "    qml.CNOT(wires = [0, 1])\n",
    "    qml.RY(phi, wires = 1)\n",
    "    \n",
    "    return qml.state()\n",
    "circuit_qnode = qml.QNode(circuit, dev)# Assign a QNode to circuit\"\n",
    "\n",
    "print(circuit_qnode(0.3))"
   ]
  },
  {
   "cell_type": "code",
   "execution_count": null,
   "id": "bc2b448f",
   "metadata": {},
   "outputs": [],
   "source": []
  }
 ],
 "metadata": {
  "kernelspec": {
   "display_name": ".venv",
   "language": "python",
   "name": "python3"
  },
  "language_info": {
   "codemirror_mode": {
    "name": "ipython",
    "version": 3
   },
   "file_extension": ".py",
   "mimetype": "text/x-python",
   "name": "python",
   "nbconvert_exporter": "python",
   "pygments_lexer": "ipython3",
   "version": "3.10.6"
  }
 },
 "nbformat": 4,
 "nbformat_minor": 5
}
