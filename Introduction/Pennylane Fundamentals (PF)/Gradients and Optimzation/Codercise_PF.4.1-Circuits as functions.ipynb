{
 "cells": [
  {
   "cell_type": "code",
   "execution_count": 1,
   "id": "19d3caa1",
   "metadata": {},
   "outputs": [],
   "source": [
    "import pennylane as qml\n",
    "from pennylane import numpy as np"
   ]
  },
  {
   "cell_type": "code",
   "execution_count": 2,
   "id": "a724304f",
   "metadata": {},
   "outputs": [],
   "source": [
    "dev = qml.device('default.qubit', wires = 3)\n",
    "@qml.qnode(dev)\n",
    "def circuit_as_function(params):\n",
    "    qml.RX(params[0], wires = 0)\n",
    "    qml.CNOT(wires = [0, 1])\n",
    "    qml.CNOT(wires = [1, 2])\n",
    "    qml.CNOT(wires = [2, 0])\n",
    "\n",
    "    for i in range(3):\n",
    "        qml.RY(params[i+1], wires = i)\n",
    "\n",
    "    return qml.expval(qml.PauliZ(0))"
   ]
  },
  {
   "cell_type": "code",
   "execution_count": 3,
   "id": "2f7f99bf",
   "metadata": {},
   "outputs": [],
   "source": [
    "angles = np.linspace(0, 4 * np.pi, 200)\n",
    "output_values = np.array([circuit_as_function([0.5, t, 0.5, 0.5]) for t in angles])"
   ]
  }
 ],
 "metadata": {
  "kernelspec": {
   "display_name": ".venv",
   "language": "python",
   "name": "python3"
  },
  "language_info": {
   "codemirror_mode": {
    "name": "ipython",
    "version": 3
   },
   "file_extension": ".py",
   "mimetype": "text/x-python",
   "name": "python",
   "nbconvert_exporter": "python",
   "pygments_lexer": "ipython3",
   "version": "3.10.6"
  }
 },
 "nbformat": 4,
 "nbformat_minor": 5
}
