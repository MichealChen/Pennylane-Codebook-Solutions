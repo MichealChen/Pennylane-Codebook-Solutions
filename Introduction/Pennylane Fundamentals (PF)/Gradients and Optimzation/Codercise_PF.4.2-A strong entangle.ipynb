{
 "cells": [
  {
   "cell_type": "code",
   "execution_count": 1,
   "id": "ad53ff01",
   "metadata": {},
   "outputs": [],
   "source": [
    "import pennylane as qml\n",
    "from pennylane import numpy as np"
   ]
  },
  {
   "cell_type": "code",
   "execution_count": 2,
   "id": "dc76c4e1",
   "metadata": {},
   "outputs": [
    {
     "name": "stdout",
     "output_type": "stream",
     "text": [
      "The output of your circuit with these weights is:  0.5526169368619243\n"
     ]
    }
   ],
   "source": [
    "dev = qml.device('default.qubit', wires = 4)\n",
    "@qml.qnode(dev)\n",
    "def strong_entangler(weights):\n",
    "    qml.StronglyEntanglingLayers(weights, wires=range(4))\n",
    "    return qml.expval(qml.Z(0))\n",
    "\n",
    "shape = qml.StronglyEntanglingLayers.shape(n_layers=1, n_wires=4)\n",
    "test_weights = np.random.random(size=shape)\n",
    "print(\"The output of your circuit with these weights is: \", strong_entangler(test_weights))"
   ]
  },
  {
   "cell_type": "code",
   "execution_count": null,
   "id": "5ed7880f",
   "metadata": {},
   "outputs": [],
   "source": []
  }
 ],
 "metadata": {
  "kernelspec": {
   "display_name": ".venv",
   "language": "python",
   "name": "python3"
  },
  "language_info": {
   "codemirror_mode": {
    "name": "ipython",
    "version": 3
   },
   "file_extension": ".py",
   "mimetype": "text/x-python",
   "name": "python",
   "nbconvert_exporter": "python",
   "pygments_lexer": "ipython3",
   "version": "3.10.6"
  }
 },
 "nbformat": 4,
 "nbformat_minor": 5
}
