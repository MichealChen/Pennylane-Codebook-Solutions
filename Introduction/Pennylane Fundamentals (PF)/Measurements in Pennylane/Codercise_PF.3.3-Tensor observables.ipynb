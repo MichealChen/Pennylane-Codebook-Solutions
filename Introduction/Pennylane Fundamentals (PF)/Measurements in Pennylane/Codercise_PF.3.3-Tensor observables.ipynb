{
 "cells": [
  {
   "cell_type": "code",
   "execution_count": 1,
   "id": "1ec023fb",
   "metadata": {},
   "outputs": [],
   "source": [
    "import pennylane as qml\n",
    "from pennylane import numpy as np"
   ]
  },
  {
   "cell_type": "code",
   "execution_count": 13,
   "id": "8c748e5a",
   "metadata": {},
   "outputs": [],
   "source": [
    "dev = qml.device('default.qubit', wires = 2) # Define a two-qubit device here\n",
    "@qml.qnode(dev)\n",
    "\n",
    "def circuit():\n",
    "    \"\"\"\n",
    "    This quantum function implements a Bell state and\n",
    "    should return the probabilities for the PauliZ \n",
    "    observable on both qubits, using a single measurement\n",
    "    \"\"\"\n",
    "    qml.H(wires=0)\n",
    "    qml.CNOT(wires=[0,1])\n",
    "    return qml.probs(op = qml.PauliZ(0)@qml.PauliZ(1))"
   ]
  },
  {
   "cell_type": "code",
   "execution_count": 14,
   "id": "fabc60e8",
   "metadata": {},
   "outputs": [
    {
     "name": "stdout",
     "output_type": "stream",
     "text": [
      "[0.5 0.  0.  0.5]\n"
     ]
    }
   ],
   "source": [
    "print(circuit())"
   ]
  },
  {
   "cell_type": "code",
   "execution_count": null,
   "id": "5a3c3356",
   "metadata": {},
   "outputs": [],
   "source": []
  }
 ],
 "metadata": {
  "kernelspec": {
   "display_name": ".venv",
   "language": "python",
   "name": "python3"
  },
  "language_info": {
   "codemirror_mode": {
    "name": "ipython",
    "version": 3
   },
   "file_extension": ".py",
   "mimetype": "text/x-python",
   "name": "python",
   "nbconvert_exporter": "python",
   "pygments_lexer": "ipython3",
   "version": "3.10.6"
  }
 },
 "nbformat": 4,
 "nbformat_minor": 5
}
