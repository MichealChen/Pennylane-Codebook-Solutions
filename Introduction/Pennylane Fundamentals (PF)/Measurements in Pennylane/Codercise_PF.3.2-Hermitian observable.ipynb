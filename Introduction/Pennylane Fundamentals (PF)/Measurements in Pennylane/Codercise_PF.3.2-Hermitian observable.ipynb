{
 "cells": [
  {
   "cell_type": "code",
   "execution_count": 1,
   "id": "83d248f7",
   "metadata": {},
   "outputs": [],
   "source": [
    "import pennylane as qml\n",
    "from pennylane import numpy as np"
   ]
  },
  {
   "cell_type": "code",
   "execution_count": 4,
   "id": "03942713",
   "metadata": {},
   "outputs": [],
   "source": [
    "dev = qml.device('default.qubit', wires = 2)\n",
    "\n",
    "\n",
    "A = np.array([[1, 0], [0, -1]])\n",
    "\n",
    "@qml.qnode(dev)\n",
    "def circuit():\n",
    "    qml.Hadamard(wires = 0)\n",
    "    qml.CNOT(wires = [0, 1])\n",
    "\n",
    "    return qml.expval(qml.Hermitian(A, wires = 0))"
   ]
  },
  {
   "cell_type": "code",
   "execution_count": 5,
   "id": "d78945d2",
   "metadata": {},
   "outputs": [
    {
     "name": "stdout",
     "output_type": "stream",
     "text": [
      "0.0\n"
     ]
    }
   ],
   "source": [
    "print(circuit())"
   ]
  },
  {
   "cell_type": "code",
   "execution_count": null,
   "id": "c0f41c2c",
   "metadata": {},
   "outputs": [],
   "source": []
  }
 ],
 "metadata": {
  "kernelspec": {
   "display_name": ".venv",
   "language": "python",
   "name": "python3"
  },
  "language_info": {
   "codemirror_mode": {
    "name": "ipython",
    "version": 3
   },
   "file_extension": ".py",
   "mimetype": "text/x-python",
   "name": "python",
   "nbconvert_exporter": "python",
   "pygments_lexer": "ipython3",
   "version": "3.10.6"
  }
 },
 "nbformat": 4,
 "nbformat_minor": 5
}
