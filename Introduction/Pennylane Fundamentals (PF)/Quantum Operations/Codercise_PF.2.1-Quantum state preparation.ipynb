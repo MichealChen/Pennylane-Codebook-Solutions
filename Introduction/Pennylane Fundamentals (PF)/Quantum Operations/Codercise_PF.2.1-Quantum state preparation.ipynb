{
 "cells": [
  {
   "cell_type": "code",
   "execution_count": 2,
   "id": "3b48410f",
   "metadata": {},
   "outputs": [],
   "source": [
    "import pennylane as qml\n",
    "from pennylane import numpy as np"
   ]
  },
  {
   "cell_type": "code",
   "execution_count": 3,
   "id": "3ffdfc0e",
   "metadata": {},
   "outputs": [
    {
     "name": "stdout",
     "output_type": "stream",
     "text": [
      "The prepared state is [0.        +0.j 0.57735027+0.j 0.57735027+0.j 0.        +0.j\n",
      " 0.57735027+0.j 0.        +0.j 0.        +0.j 0.        +0.j]\n"
     ]
    }
   ],
   "source": [
    "dev = qml.device('default.qubit', wires = 3)\n",
    "\n",
    "@qml.qnode(dev)\n",
    "def prep_circuit(alpha, beta, gamma):\n",
    "    norm = np.sqrt(alpha * np.conjugate(alpha)+ beta * np.conjugate(beta)+ gamma * np.conjugate(gamma))\n",
    "    state = qml.StatePrep([0, alpha, beta, 0, gamma, 0, 0, 0], wires = range(3), normalize = True)\n",
    "\n",
    "    return qml.state()\n",
    "\n",
    "alpha, beta, gamma = 1/np.sqrt(3), 1/np.sqrt(3), 1/np.sqrt(3),\n",
    "\n",
    "print(\"The prepared state is\", prep_circuit(alpha, beta, gamma))"
   ]
  }
 ],
 "metadata": {
  "kernelspec": {
   "display_name": ".venv",
   "language": "python",
   "name": "python3"
  },
  "language_info": {
   "codemirror_mode": {
    "name": "ipython",
    "version": 3
   },
   "file_extension": ".py",
   "mimetype": "text/x-python",
   "name": "python",
   "nbconvert_exporter": "python",
   "pygments_lexer": "ipython3",
   "version": "3.10.6"
  }
 },
 "nbformat": 4,
 "nbformat_minor": 5
}
