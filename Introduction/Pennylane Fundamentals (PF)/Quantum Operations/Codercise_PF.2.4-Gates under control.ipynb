{
 "cells": [
  {
   "cell_type": "code",
   "execution_count": 1,
   "id": "4d12f2d4",
   "metadata": {},
   "outputs": [],
   "source": [
    "import pennylane as qml\n",
    "from pennylane import numpy as np"
   ]
  },
  {
   "cell_type": "code",
   "execution_count": null,
   "id": "681b28fd",
   "metadata": {},
   "outputs": [],
   "source": [
    "dev = qml.device('default.qubit', wires = 3)\n",
    "@qml.qnode(dev)\n",
    "def ctrl_circuit(theta, phi):\n",
    "    qml.RY(phi, wires = 0)\n",
    "    qml.Hadamard(wires=  1)\n",
    "    qml.RX(theta, wires =2)\n",
    "    qml.ctrl(qml.S, control = (0), control_values=(1))(wires = 1)\n",
    "    qml.ctrl(qml.T, control=(1), control_values=(0))(wires = 2)\n",
    "    qml.ctrl(qml.Hadamard, control = (2), control_values=1)(wires = 0)\n",
    "    \n",
    "    return qml.state()\n"
   ]
  }
 ],
 "metadata": {
  "kernelspec": {
   "display_name": ".venv",
   "language": "python",
   "name": "python3"
  },
  "language_info": {
   "codemirror_mode": {
    "name": "ipython",
    "version": 3
   },
   "file_extension": ".py",
   "mimetype": "text/x-python",
   "name": "python",
   "nbconvert_exporter": "python",
   "pygments_lexer": "ipython3",
   "version": "3.10.6"
  }
 },
 "nbformat": 4,
 "nbformat_minor": 5
}
