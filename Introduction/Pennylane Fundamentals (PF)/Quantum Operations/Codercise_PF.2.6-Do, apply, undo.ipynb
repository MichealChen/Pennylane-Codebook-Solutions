{
 "cells": [
  {
   "cell_type": "code",
   "execution_count": 1,
   "id": "73e1fe65",
   "metadata": {},
   "outputs": [],
   "source": [
    "import pennylane as qml\n",
    "from pennylane import numpy as np"
   ]
  },
  {
   "cell_type": "code",
   "execution_count": 4,
   "id": "fbdf34d6",
   "metadata": {},
   "outputs": [],
   "source": [
    "dev = qml.device('default.qubit')\n",
    "def do(k):\n",
    "    qml.StatePrep([1,k], wires = [0], normalize=True)\n",
    "\n",
    "def apply(theta):\n",
    "    qml.IsingXX(theta, wires = [1, 2])\n",
    "\n",
    "@qml.qnode(dev)\n",
    "def do_apply_undo(k, theta):\n",
    "    do(k)\n",
    "    qml.ctrl(apply, control = 0)(theta)\n",
    "    qml.adjoint(do)(k)\n",
    "\n",
    "    return qml.state()"
   ]
  },
  {
   "cell_type": "code",
   "execution_count": 5,
   "id": "6fffeace",
   "metadata": {},
   "outputs": [
    {
     "name": "stdout",
     "output_type": "stream",
     "text": [
      "The output state is:\n",
      " [ 0.9842122+0.j          0.       +0.j          0.       +0.j\n",
      "  0.       -0.07788367j -0.0315756+0.j          0.       +0.j\n",
      "  0.       +0.j          0.       -0.15576734j]\n"
     ]
    }
   ],
   "source": [
    "k, theta = 0.5, 0.8\n",
    "print(\"The output state is:\\n\", do_apply_undo(k, theta))"
   ]
  },
  {
   "cell_type": "code",
   "execution_count": null,
   "id": "c90f6b61",
   "metadata": {},
   "outputs": [],
   "source": []
  }
 ],
 "metadata": {
  "kernelspec": {
   "display_name": ".venv",
   "language": "python",
   "name": "python3"
  },
  "language_info": {
   "codemirror_mode": {
    "name": "ipython",
    "version": 3
   },
   "file_extension": ".py",
   "mimetype": "text/x-python",
   "name": "python",
   "nbconvert_exporter": "python",
   "pygments_lexer": "ipython3",
   "version": "3.10.6"
  }
 },
 "nbformat": 4,
 "nbformat_minor": 5
}
