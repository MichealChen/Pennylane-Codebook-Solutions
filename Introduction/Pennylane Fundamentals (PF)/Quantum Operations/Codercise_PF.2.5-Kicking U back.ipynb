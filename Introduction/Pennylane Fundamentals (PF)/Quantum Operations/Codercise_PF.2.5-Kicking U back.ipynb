{
 "cells": [
  {
   "cell_type": "code",
   "execution_count": 1,
   "id": "89c349e8",
   "metadata": {},
   "outputs": [],
   "source": [
    "import pennylane as qml\n",
    "from pennylane import numpy as np"
   ]
  },
  {
   "cell_type": "code",
   "execution_count": 39,
   "id": "e8abf076",
   "metadata": {},
   "outputs": [],
   "source": [
    "dev = qml.device('default.qubit', wires = 2)\n",
    "@qml.qnode(dev)\n",
    "def phase_kickback(matrix):\n",
    "    qml.Hadamard(wires = 0)\n",
    "    qml.ControlledQubitUnitary(matrix, wires = [0, 1], control_values = [1])\n",
    "    qml.Hadamard(wires = 0)\n",
    "\n",
    "    return qml.state()\n"
   ]
  },
  {
   "cell_type": "code",
   "execution_count": 40,
   "id": "a976e57c",
   "metadata": {},
   "outputs": [
    {
     "name": "stdout",
     "output_type": "stream",
     "text": [
      "The state after phase kickback is: \n",
      " [ 0.15417488-0.25169664j  0.0762867 -0.2474553j   0.84582512+0.25169664j\n",
      " -0.0762867 +0.2474553j ]\n"
     ]
    }
   ],
   "source": [
    "matrix = np.array([[-0.69165024-0.50339329j,  0.28335369-0.43350413j],\n",
    "    [ 0.1525734 -0.4949106j , -0.82910055-0.2106588j ]])\n",
    "\n",
    "print(\"The state after phase kickback is: \\n\" , phase_kickback(matrix))"
   ]
  },
  {
   "cell_type": "code",
   "execution_count": null,
   "id": "0cd2ecb4",
   "metadata": {},
   "outputs": [],
   "source": []
  }
 ],
 "metadata": {
  "kernelspec": {
   "display_name": ".venv",
   "language": "python",
   "name": "python3"
  },
  "language_info": {
   "codemirror_mode": {
    "name": "ipython",
    "version": 3
   },
   "file_extension": ".py",
   "mimetype": "text/x-python",
   "name": "python",
   "nbconvert_exporter": "python",
   "pygments_lexer": "ipython3",
   "version": "3.10.6"
  }
 },
 "nbformat": 4,
 "nbformat_minor": 5
}
