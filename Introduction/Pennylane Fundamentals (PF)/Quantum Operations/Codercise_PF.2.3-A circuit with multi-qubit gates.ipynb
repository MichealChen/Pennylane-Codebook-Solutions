{
 "cells": [
  {
   "cell_type": "code",
   "execution_count": 1,
   "id": "eb83fed5",
   "metadata": {},
   "outputs": [],
   "source": [
    "import pennylane as qml\n",
    "from pennylane import numpy as np"
   ]
  },
  {
   "cell_type": "code",
   "execution_count": 2,
   "id": "a5e8482f",
   "metadata": {},
   "outputs": [],
   "source": [
    "dev = qml.device('default.qubit', wires = 3)\n",
    "@qml.qnode(dev)\n",
    "def multi_qubit_gates(theta, phi):\n",
    "    qml.Hadamard(wires = 0)\n",
    "    qml.CRY(phi, wires = [0, 1])\n",
    "    qml.CRX(theta, wires = [1, 2])\n",
    "    qml.S(wires = 1)\n",
    "    qml.T(wires = 2)\n",
    "    qml.Toffoli(wires = [0, 1, 2])\n",
    "    qml.SWAP(wires = [0, 2])\n",
    "    return qml.state()"
   ]
  },
  {
   "cell_type": "code",
   "execution_count": null,
   "id": "2d23cbb4",
   "metadata": {},
   "outputs": [
    {
     "name": "stdout",
     "output_type": "stream",
     "text": [
      "The output state is: \n",
      " [0.70710678+0.j         0.65328148+0.j         0.        +0.j\n",
      " 0.09567086+0.09567086j 0.        +0.j         0.        +0.j\n",
      " 0.        +0.j         0.        +0.23434479j]\n"
     ]
    }
   ],
   "source": [
    "theta, phi = np.pi/3, np.pi/4\n",
    "print(\"The output state is: \\n\", multi_qubit_gates(theta, phi))"
   ]
  },
  {
   "cell_type": "code",
   "execution_count": null,
   "id": "7f14bc4c",
   "metadata": {},
   "outputs": [],
   "source": []
  }
 ],
 "metadata": {
  "kernelspec": {
   "display_name": ".venv",
   "language": "python",
   "name": "python3"
  },
  "language_info": {
   "codemirror_mode": {
    "name": "ipython",
    "version": 3
   },
   "file_extension": ".py",
   "mimetype": "text/x-python",
   "name": "python",
   "nbconvert_exporter": "python",
   "pygments_lexer": "ipython3",
   "version": "3.10.6"
  }
 },
 "nbformat": 4,
 "nbformat_minor": 5
}
