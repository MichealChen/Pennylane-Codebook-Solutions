{
 "cells": [
  {
   "cell_type": "code",
   "execution_count": 1,
   "id": "01ac4a38",
   "metadata": {},
   "outputs": [],
   "source": [
    "import pennylane as qml\n",
    "from pennylane import numpy as np"
   ]
  },
  {
   "cell_type": "code",
   "execution_count": 3,
   "id": "e7a57c87",
   "metadata": {},
   "outputs": [],
   "source": [
    "dev = qml.device('default.qubit', wires = 2)\n",
    "@qml.qnode(dev)\n",
    "def single_qubit_gates(theta, phi):\n",
    "    qml.Hadamard(wires = 0)\n",
    "    qml.T(wires = 0)\n",
    "    qml.RX(theta, wires = 0)\n",
    "    qml.Hadamard(wires = 1)\n",
    "    qml.S(wires = 1)\n",
    "    qml.RZ(phi, wires = 1)\n",
    "    return qml.state()"
   ]
  },
  {
   "cell_type": "code",
   "execution_count": 4,
   "id": "47091788",
   "metadata": {},
   "outputs": [
    {
     "name": "stdout",
     "output_type": "stream",
     "text": [
      "The output state of the circuit is:  [ 0.49572243-0.39667667j -0.07003593+0.63102146j  0.30438071-0.0652631j\n",
      " -0.16908169+0.26137765j]\n"
     ]
    }
   ],
   "source": [
    "theta, phi = np.pi/3, np.pi/4\n",
    "print(\"The output state of the circuit is: \", single_qubit_gates(theta, phi))"
   ]
  },
  {
   "cell_type": "code",
   "execution_count": null,
   "id": "75fb4420",
   "metadata": {},
   "outputs": [],
   "source": []
  }
 ],
 "metadata": {
  "kernelspec": {
   "display_name": ".venv",
   "language": "python",
   "name": "python3"
  },
  "language_info": {
   "codemirror_mode": {
    "name": "ipython",
    "version": 3
   },
   "file_extension": ".py",
   "mimetype": "text/x-python",
   "name": "python",
   "nbconvert_exporter": "python",
   "pygments_lexer": "ipython3",
   "version": "3.10.6"
  }
 },
 "nbformat": 4,
 "nbformat_minor": 5
}
