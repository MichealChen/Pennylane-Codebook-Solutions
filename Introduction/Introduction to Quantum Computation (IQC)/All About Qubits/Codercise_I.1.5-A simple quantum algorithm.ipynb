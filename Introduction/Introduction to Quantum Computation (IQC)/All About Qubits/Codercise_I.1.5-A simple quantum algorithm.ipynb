{
 "cells": [
  {
   "cell_type": "code",
   "execution_count": 1,
   "id": "75603a4e",
   "metadata": {},
   "outputs": [],
   "source": [
    "import numpy as np\n",
    "from pennylane import numpy as np"
   ]
  },
  {
   "cell_type": "code",
   "execution_count": 8,
   "id": "8b6f3419",
   "metadata": {},
   "outputs": [],
   "source": [
    "U = np.array([[1, 1], [1, -1]])/np.sqrt(2)\n",
    "\n",
    "def initialize_state():\n",
    "    return np.array([1, 0])\n",
    "\n",
    "def apply_u(state):\n",
    "    return U @ state\n",
    "\n",
    "def measure_state(state, num_meas):\n",
    "    p_alpha = np.abs(state[0])**2\n",
    "    p_beta = np.abs(state[1])**2\n",
    "    sampling_outcome = np.random.choice([0, 1], num_meas, p = [p_alpha, p_beta])\n",
    "    return sampling_outcome\n",
    "\n",
    "def quantum_algorithm():\n",
    "    num_meas = 100\n",
    "    ket_0 = initialize_state()\n",
    "    ket_evolve = apply_u(ket_0)\n",
    "    return measure_state(ket_evolve, num_meas)"
   ]
  },
  {
   "cell_type": "code",
   "execution_count": 9,
   "id": "93bdfab1",
   "metadata": {},
   "outputs": [
    {
     "data": {
      "text/plain": [
       "tensor([1, 0, 1, 1, 1, 0, 0, 0, 1, 1, 1, 1, 1, 0, 1, 0, 0, 1, 0, 0, 1, 1,\n",
       "        0, 0, 1, 1, 0, 0, 0, 0, 1, 0, 0, 1, 1, 0, 1, 1, 1, 1, 1, 0, 0, 1,\n",
       "        0, 0, 0, 1, 1, 1, 0, 1, 1, 1, 1, 0, 0, 1, 0, 1, 1, 0, 1, 0, 0, 1,\n",
       "        0, 0, 1, 0, 0, 1, 1, 1, 1, 1, 1, 1, 1, 1, 1, 0, 1, 0, 0, 1, 0, 1,\n",
       "        1, 1, 1, 1, 0, 1, 0, 1, 0, 1, 1, 0], requires_grad=True)"
      ]
     },
     "execution_count": 9,
     "metadata": {},
     "output_type": "execute_result"
    }
   ],
   "source": [
    "quantum_algorithm()"
   ]
  },
  {
   "cell_type": "code",
   "execution_count": null,
   "id": "46e945a4",
   "metadata": {},
   "outputs": [],
   "source": []
  }
 ],
 "metadata": {
  "kernelspec": {
   "display_name": ".venv",
   "language": "python",
   "name": "python3"
  },
  "language_info": {
   "codemirror_mode": {
    "name": "ipython",
    "version": 3
   },
   "file_extension": ".py",
   "mimetype": "text/x-python",
   "name": "python",
   "nbconvert_exporter": "python",
   "pygments_lexer": "ipython3",
   "version": "3.10.6"
  }
 },
 "nbformat": 4,
 "nbformat_minor": 5
}
