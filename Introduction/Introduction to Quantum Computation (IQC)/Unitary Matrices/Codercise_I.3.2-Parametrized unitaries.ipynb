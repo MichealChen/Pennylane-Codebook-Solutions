{
 "cells": [
  {
   "cell_type": "code",
   "execution_count": 1,
   "id": "e4adf7da",
   "metadata": {},
   "outputs": [],
   "source": [
    "import pennylane as qml\n",
    "from pennylane import numpy as np"
   ]
  },
  {
   "cell_type": "markdown",
   "id": "29c441c4",
   "metadata": {},
   "source": [
    "在 PennyLane 中，这个参数化操作被实现为一个名为 `Rot` 的门。`Rot` 接受三个参数，正好对应上面公式中的三个角度：\n",
    "\n",
    "$$\n",
    "U(\\phi, \\theta, \\omega) =\n",
    "\\begin{pmatrix}\n",
    "e^{-i(\\phi + \\omega)/2} \\cos(\\theta/2) & -e^{i(\\phi - \\omega)/2} \\sin(\\theta/2) \\\\\n",
    "e^{-i(\\phi - \\omega)/2} \\sin(\\theta/2) & e^{i(\\phi + \\omega)/2} \\cos(\\theta/2)\n",
    "\\end{pmatrix}.\n",
    "$$\n",
    "\n",
    "```python\n",
    "qml.Rot(phi, theta, omega, wires=wire)\n"
   ]
  },
  {
   "cell_type": "code",
   "execution_count": 2,
   "id": "94383da3",
   "metadata": {},
   "outputs": [],
   "source": [
    "dev = qml.device(\"default.qubit\", wires=1)\n",
    "\n",
    "\n",
    "@qml.qnode(dev)\n",
    "def apply_u_as_rot(phi, theta, omega):\n",
    "    qml.Rot(phi, theta, omega, wires = 0)\n",
    "    return qml.state()"
   ]
  },
  {
   "cell_type": "code",
   "execution_count": null,
   "id": "d4c50c3b",
   "metadata": {},
   "outputs": [],
   "source": []
  }
 ],
 "metadata": {
  "kernelspec": {
   "display_name": ".venv",
   "language": "python",
   "name": "python3"
  },
  "language_info": {
   "codemirror_mode": {
    "name": "ipython",
    "version": 3
   },
   "file_extension": ".py",
   "mimetype": "text/x-python",
   "name": "python",
   "nbconvert_exporter": "python",
   "pygments_lexer": "ipython3",
   "version": "3.10.6"
  }
 },
 "nbformat": 4,
 "nbformat_minor": 5
}
