{
 "cells": [
  {
   "cell_type": "code",
   "execution_count": 1,
   "id": "6ec72671",
   "metadata": {},
   "outputs": [],
   "source": [
    "import pennylane as qml\n",
    "from pennylane import numpy as np"
   ]
  },
  {
   "cell_type": "code",
   "execution_count": null,
   "id": "44c90889",
   "metadata": {},
   "outputs": [
    {
     "name": "stdout",
     "output_type": "stream",
     "text": [
      "Estimated circuit depth: 4\n"
     ]
    }
   ],
   "source": [
    "dev = qml.device(\"default.qubit\", wires=3)\n",
    "\n",
    "ops = []\n",
    "\n",
    "ops.append([\"RX\", 0])\n",
    "ops.append([\"RY\", 1])\n",
    "ops.append([\"RZ\", 2])\n",
    "\n",
    "\n",
    "ops.append([\"CNOT\", 0, 1])\n",
    "ops.append([\"CNOT\", 1, 2])\n",
    "ops.append([\"CNOT\", 2, 0])\n",
    "\n",
    "qubit_depth = [0, 0, 0]\n",
    "\n",
    "depths = []\n",
    "\n",
    "for op in ops:\n",
    "    if op[0] in [\"RX\", \"RY\", \"RZ\"]:\n",
    "        wire = op[1]\n",
    "        current_depth = qubit_depth[wire] + 1\n",
    "        qubit_depth[wire] = current_depth\n",
    "        depths.append(current_depth)\n",
    "    elif op[0] == \"CNOT\":\n",
    "        control, target = op[1], op[2]\n",
    "        current_depth = max(qubit_depth[control], qubit_depth[target]) + 1\n",
    "        qubit_depth[control] = current_depth\n",
    "        qubit_depth[target] = current_depth\n",
    "        depths.append(current_depth)\n",
    "\n",
    "print(\"Estimated circuit depth:\", max(depths))"
   ]
  }
 ],
 "metadata": {
  "kernelspec": {
   "display_name": ".venv",
   "language": "python",
   "name": "python3"
  },
  "language_info": {
   "codemirror_mode": {
    "name": "ipython",
    "version": 3
   },
   "file_extension": ".py",
   "mimetype": "text/x-python",
   "name": "python",
   "nbconvert_exporter": "python",
   "pygments_lexer": "ipython3",
   "version": "3.10.6"
  }
 },
 "nbformat": 4,
 "nbformat_minor": 5
}
