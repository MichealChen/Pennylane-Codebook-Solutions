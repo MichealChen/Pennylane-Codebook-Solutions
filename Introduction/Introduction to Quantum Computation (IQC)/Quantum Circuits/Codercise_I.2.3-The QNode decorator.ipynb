{
 "cells": [
  {
   "cell_type": "code",
   "execution_count": 1,
   "id": "b2f81e2f",
   "metadata": {},
   "outputs": [],
   "source": [
    "import pennylane as qml\n",
    "from pennylane import numpy as np"
   ]
  },
  {
   "cell_type": "code",
   "execution_count": 3,
   "id": "f78e6e0d",
   "metadata": {},
   "outputs": [
    {
     "data": {
      "text/plain": [
       "array([9.87560268e-01, 0.00000000e+00, 0.00000000e+00, 2.47302134e-03,\n",
       "       2.48960206e-05, 0.00000000e+00, 0.00000000e+00, 9.94181506e-03])"
      ]
     },
     "execution_count": 3,
     "metadata": {},
     "output_type": "execute_result"
    }
   ],
   "source": [
    "dev = qml.device('default.qubit', wires = 3)\n",
    "@qml.qnode(dev)\n",
    "def my_circuit(theta, phi, omega):\n",
    "    qml.RX(theta, wires=0)\n",
    "    qml.RY(phi, wires=1)\n",
    "    qml.RZ(omega, wires=2)\n",
    "    qml.CNOT(wires=[0, 1])\n",
    "    qml.CNOT(wires=[1, 2])\n",
    "    qml.CNOT(wires=[2, 0])\n",
    "    return qml.probs(wires=[0, 1, 2])\n",
    "\n",
    "\n",
    "theta, phi, omega = 0.1, 0.2, 0.3\n",
    "\n",
    "my_circuit(theta, phi, omega )"
   ]
  },
  {
   "cell_type": "code",
   "execution_count": null,
   "id": "338da881",
   "metadata": {},
   "outputs": [],
   "source": []
  }
 ],
 "metadata": {
  "kernelspec": {
   "display_name": ".venv",
   "language": "python",
   "name": "python3"
  },
  "language_info": {
   "codemirror_mode": {
    "name": "ipython",
    "version": 3
   },
   "file_extension": ".py",
   "mimetype": "text/x-python",
   "name": "python",
   "nbconvert_exporter": "python",
   "pygments_lexer": "ipython3",
   "version": "3.10.6"
  }
 },
 "nbformat": 4,
 "nbformat_minor": 5
}
