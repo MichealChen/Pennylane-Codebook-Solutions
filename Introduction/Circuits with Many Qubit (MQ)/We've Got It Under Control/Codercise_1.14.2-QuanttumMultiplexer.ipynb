{
 "cells": [
  {
   "cell_type": "code",
   "execution_count": 11,
   "id": "e32f869b",
   "metadata": {},
   "outputs": [],
   "source": [
    "import pennylane as qml\n",
    "from pennylane import numpy as np"
   ]
  },
  {
   "cell_type": "code",
   "execution_count": 12,
   "id": "4af4c19c",
   "metadata": {},
   "outputs": [],
   "source": [
    "dev = qml.device('default.qubit', wires = 3)\n",
    "\n",
    "state = [0, 1]\n",
    "@qml.qnode(dev)\n",
    "def apply_control_sequence(state):\n",
    "    if state[0] == 1:\n",
    "        qml.PauliX(wires = 0)\n",
    "    if state[1] == 1:\n",
    "        qml.PauliX(wires = 1)\n",
    "\n",
    "    qml.PauliX(wires=2)\n",
    "    qml.Hadamard(wires=2)\n",
    "\n",
    "\n",
    "    qml.PauliX(wires = 0)\n",
    "    qml.ctrl(qml.PauliX, control = [0, 1])(wires = 2)\n",
    "    qml.PauliX(wires = 0)\n",
    "\n",
    "    qml.PauliX(wires = 1)\n",
    "    qml.ctrl(qml.PauliZ, control = [0, 1])(wires = 2)\n",
    "    qml.PauliX(wires = 1)\n",
    "\n",
    "    qml.ctrl(qml.PauliY, control = [0, 1])(wires = 2)\n",
    "\n",
    "    return qml.state()"
   ]
  },
  {
   "cell_type": "code",
   "execution_count": 13,
   "id": "8506896d",
   "metadata": {},
   "outputs": [
    {
     "name": "stdout",
     "output_type": "stream",
     "text": [
      "[ 0.        +0.j  0.        +0.j -0.70710678+0.j  0.70710678+0.j\n",
      "  0.        +0.j  0.        +0.j  0.        +0.j  0.        +0.j]\n"
     ]
    }
   ],
   "source": [
    "output_state = apply_control_sequence(state)\n",
    "print(output_state)"
   ]
  },
  {
   "cell_type": "code",
   "execution_count": null,
   "id": "a683b55e",
   "metadata": {},
   "outputs": [],
   "source": []
  }
 ],
 "metadata": {
  "kernelspec": {
   "display_name": ".venv",
   "language": "python",
   "name": "python3"
  },
  "language_info": {
   "codemirror_mode": {
    "name": "ipython",
    "version": 3
   },
   "file_extension": ".py",
   "mimetype": "text/x-python",
   "name": "python",
   "nbconvert_exporter": "python",
   "pygments_lexer": "ipython3",
   "version": "3.10.6"
  }
 },
 "nbformat": 4,
 "nbformat_minor": 5
}
