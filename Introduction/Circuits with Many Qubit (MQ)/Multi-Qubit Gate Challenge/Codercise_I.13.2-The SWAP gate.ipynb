{
 "cells": [
  {
   "cell_type": "code",
   "execution_count": 1,
   "id": "0e6a7d91",
   "metadata": {},
   "outputs": [],
   "source": [
    "import pennylane as qml\n",
    "from pennylane import numpy as np"
   ]
  },
  {
   "cell_type": "code",
   "execution_count": 6,
   "id": "5bdbedb3",
   "metadata": {},
   "outputs": [],
   "source": [
    "def prepare_states(phi, theta, omega):\n",
    "    qml.RX(phi, wires = 0)\n",
    "    qml.RY(theta, wires = 1)\n",
    "    qml.RZ(omega, wires = 1)\n",
    "phi, theta, omega = 1.2, 2.3, 3.4"
   ]
  },
  {
   "cell_type": "code",
   "execution_count": 7,
   "id": "67f3358b",
   "metadata": {},
   "outputs": [],
   "source": [
    "dev = qml.device('default.qubit', wires = 2)\n",
    "@qml.qnode(dev)\n",
    "def apply_swap(phi, theta, omega):\n",
    "    prepare_states(phi, theta, omega)\n",
    "    qml.SWAP(wires=[0, 1])\n",
    "\n",
    "    return qml.state()\n",
    "\n",
    "@qml.qnode(dev)\n",
    "def apply_swap_with_cnots(phi, theta, omega):\n",
    "    prepare_states(phi, theta, omega)\n",
    "    qml.CNOT(wires = [0, 1])\n",
    "    qml.CNOT(wires = [1, 0])\n",
    "    qml.CNOT(wires = [0, 1])\n",
    "    return qml.state()"
   ]
  },
  {
   "cell_type": "code",
   "execution_count": 8,
   "id": "d3df3916",
   "metadata": {},
   "outputs": [
    {
     "name": "stdout",
     "output_type": "stream",
     "text": [
      "Regular SWAP state = [-0.04343853-0.33432911j -0.22872685+0.0297179j  -0.09706327+0.74705738j\n",
      "  0.51108945+0.06640456j]\n",
      "CNOT SWAP state = [-0.04343853-0.33432911j -0.22872685+0.0297179j  -0.09706327+0.74705738j\n",
      "  0.51108945+0.06640456j]\n"
     ]
    }
   ],
   "source": [
    "print(f\"Regular SWAP state = {apply_swap(phi, theta, omega)}\")\n",
    "print(f\"CNOT SWAP state = {apply_swap_with_cnots(phi, theta, omega)}\")"
   ]
  },
  {
   "cell_type": "code",
   "execution_count": null,
   "id": "ed26ad0f",
   "metadata": {},
   "outputs": [],
   "source": []
  }
 ],
 "metadata": {
  "kernelspec": {
   "display_name": ".venv",
   "language": "python",
   "name": "python3"
  },
  "language_info": {
   "codemirror_mode": {
    "name": "ipython",
    "version": 3
   },
   "file_extension": ".py",
   "mimetype": "text/x-python",
   "name": "python",
   "nbconvert_exporter": "python",
   "pygments_lexer": "ipython3",
   "version": "3.10.6"
  }
 },
 "nbformat": 4,
 "nbformat_minor": 5
}
