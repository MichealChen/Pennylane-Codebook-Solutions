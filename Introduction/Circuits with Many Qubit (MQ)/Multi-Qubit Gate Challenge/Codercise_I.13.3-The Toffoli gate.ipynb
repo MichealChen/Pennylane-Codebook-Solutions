{
 "cells": [
  {
   "cell_type": "code",
   "execution_count": 1,
   "id": "668e3853",
   "metadata": {},
   "outputs": [],
   "source": [
    "import pennylane as qml\n",
    "from pennylane import numpy as np"
   ]
  },
  {
   "cell_type": "code",
   "execution_count": 2,
   "id": "f3bb14b1",
   "metadata": {},
   "outputs": [],
   "source": [
    "def prepare_states(phi, theta, omega):\n",
    "    qml.RX(phi, wires = 0)\n",
    "    qml.RY(theta, wires = 1)\n",
    "    qml.RZ(omega, wires = 1)\n",
    "phi, theta, omega = 1.2, 2.3, 3.4"
   ]
  },
  {
   "cell_type": "code",
   "execution_count": 4,
   "id": "043ab8c5",
   "metadata": {},
   "outputs": [],
   "source": [
    "dev = qml.device('default.qubit', wires = 3)\n",
    "@qml.qnode(dev)\n",
    "def no_swap(phi, theta, omega):\n",
    "    prepare_states(phi, theta, omega)\n",
    "    return qml.state()\n",
    "\n",
    "@qml.qnode(dev)\n",
    "def controlled_swap(phi, theta, omega):\n",
    "    prepare_states(phi, theta, omega)\n",
    "\n",
    "    qml.Toffoli(wires = [0, 1, 2])\n",
    "    qml.Toffoli(wires = [0, 2, 1])\n",
    "    qml.Toffoli(wires = [0, 1, 2])\n",
    "\n",
    "    return qml.state()"
   ]
  },
  {
   "cell_type": "code",
   "execution_count": 5,
   "id": "e4043cb8",
   "metadata": {},
   "outputs": [
    {
     "name": "stdout",
     "output_type": "stream",
     "text": [
      "[-0.04343853-0.33432911j  0.        +0.j         -0.09706327+0.74705738j\n",
      "  0.        +0.j         -0.22872685+0.0297179j   0.        +0.j\n",
      "  0.51108945+0.06640456j  0.        +0.j        ]\n",
      "[-0.04343853-0.33432911j  0.        +0.j         -0.09706327+0.74705738j\n",
      "  0.        +0.j         -0.22872685+0.0297179j   0.51108945+0.06640456j\n",
      "  0.        +0.j          0.        +0.j        ]\n"
     ]
    }
   ],
   "source": [
    "print(no_swap(phi, theta, omega))\n",
    "print(controlled_swap(phi, theta, omega))"
   ]
  },
  {
   "cell_type": "code",
   "execution_count": null,
   "id": "c0052cea",
   "metadata": {},
   "outputs": [],
   "source": []
  }
 ],
 "metadata": {
  "kernelspec": {
   "display_name": ".venv",
   "language": "python",
   "name": "python3"
  },
  "language_info": {
   "codemirror_mode": {
    "name": "ipython",
    "version": 3
   },
   "file_extension": ".py",
   "mimetype": "text/x-python",
   "name": "python",
   "nbconvert_exporter": "python",
   "pygments_lexer": "ipython3",
   "version": "3.10.6"
  }
 },
 "nbformat": 4,
 "nbformat_minor": 5
}
