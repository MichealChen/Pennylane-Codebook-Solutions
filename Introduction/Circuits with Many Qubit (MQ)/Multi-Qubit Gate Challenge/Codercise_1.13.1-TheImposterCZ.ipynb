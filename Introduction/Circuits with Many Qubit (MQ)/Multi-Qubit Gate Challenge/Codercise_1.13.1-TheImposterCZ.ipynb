{
 "cells": [
  {
   "cell_type": "code",
   "execution_count": 3,
   "id": "d26355fa",
   "metadata": {},
   "outputs": [],
   "source": [
    "import pennylane as qml\n",
    "from pennylane import numpy as np"
   ]
  },
  {
   "cell_type": "code",
   "execution_count": null,
   "id": "9b7c7863",
   "metadata": {},
   "outputs": [],
   "source": [
    "def prepare_states(phi, theta, omega):\n",
    "    qml.RX(phi, wires = 0)\n",
    "    qml.RY(theta, wires = 1)\n",
    "    qml.RZ(omega, wires = 1)"
   ]
  },
  {
   "cell_type": "code",
   "execution_count": 5,
   "id": "e137da10",
   "metadata": {},
   "outputs": [],
   "source": [
    "dev = qml.device('default.qubit', wires = 2)\n",
    "phi, theta, omega = 1.2, 2.3, 3.4\n",
    "@qml.qnode(dev)\n",
    "def true_cz(phi, theta, omega):\n",
    "    prepare_states(phi, theta, omega)\n",
    "\n",
    "    qml.CZ(wires = [0, 1])\n",
    "    \n",
    "    return qml.state()\n",
    "\n",
    "\n",
    "@qml.qnode(dev)\n",
    "def imposter_cz(phi, theta, omega):\n",
    "    prepare_states(phi, theta, omega)\n",
    "    qml.Hadamard(wires=1)\n",
    "    qml.CNOT(wires=[0, 1])\n",
    "    qml.Hadamard(wires=1)\n",
    "\n",
    "    return qml.state()"
   ]
  },
  {
   "cell_type": "code",
   "execution_count": 6,
   "id": "254fe366",
   "metadata": {},
   "outputs": [
    {
     "name": "stdout",
     "output_type": "stream",
     "text": [
      "True CZ output state [-0.04343853-0.33432911j -0.09706327+0.74705738j -0.22872685+0.0297179j\n",
      " -0.51108945-0.06640456j]\n",
      "Imposter CZ output state [-0.04343853-0.33432911j -0.09706327+0.74705738j -0.22872685+0.0297179j\n",
      " -0.51108945-0.06640456j]\n"
     ]
    }
   ],
   "source": [
    "print(f\"True CZ output state {true_cz(phi, theta, omega)}\")\n",
    "print(f\"Imposter CZ output state {imposter_cz(phi, theta, omega)}\")"
   ]
  },
  {
   "cell_type": "code",
   "execution_count": null,
   "id": "e01a6d3b",
   "metadata": {},
   "outputs": [],
   "source": []
  }
 ],
 "metadata": {
  "kernelspec": {
   "display_name": ".venv",
   "language": "python",
   "name": "python3"
  },
  "language_info": {
   "codemirror_mode": {
    "name": "ipython",
    "version": 3
   },
   "file_extension": ".py",
   "mimetype": "text/x-python",
   "name": "python",
   "nbconvert_exporter": "python",
   "pygments_lexer": "ipython3",
   "version": "3.10.6"
  }
 },
 "nbformat": 4,
 "nbformat_minor": 5
}
