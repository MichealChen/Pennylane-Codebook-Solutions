{
 "cells": [
  {
   "cell_type": "code",
   "execution_count": 1,
   "id": "e0cf6861",
   "metadata": {},
   "outputs": [],
   "source": [
    "import pennylane as qml\n",
    "from pennylane import numpy as np"
   ]
  },
  {
   "cell_type": "code",
   "execution_count": 9,
   "id": "d993cf7f",
   "metadata": {},
   "outputs": [],
   "source": [
    "dev = qml.device('default.qubit', wires = 2)\n",
    "@qml.qnode(dev)\n",
    "def two_qubit_circuit():\n",
    "    qml.Hadamard(wires = 0)\n",
    "    qml.PauliX(wires = 1)\n",
    "\n",
    "    results = []\n",
    "    results.append(qml.expval(qml.PauliY(wires = 0)))\n",
    "    results.append(qml.expval(qml.PauliZ(wires = 1)))\n",
    "    return results"
   ]
  },
  {
   "cell_type": "code",
   "execution_count": 10,
   "id": "441b786a",
   "metadata": {},
   "outputs": [
    {
     "name": "stdout",
     "output_type": "stream",
     "text": [
      "[np.float64(0.0), np.float64(-0.9999999999999998)]\n"
     ]
    }
   ],
   "source": [
    "print(two_qubit_circuit())"
   ]
  },
  {
   "cell_type": "code",
   "execution_count": null,
   "id": "2af84a3a",
   "metadata": {},
   "outputs": [],
   "source": []
  }
 ],
 "metadata": {
  "kernelspec": {
   "display_name": ".venv",
   "language": "python",
   "name": "python3"
  },
  "language_info": {
   "codemirror_mode": {
    "name": "ipython",
    "version": 3
   },
   "file_extension": ".py",
   "mimetype": "text/x-python",
   "name": "python",
   "nbconvert_exporter": "python",
   "pygments_lexer": "ipython3",
   "version": "3.10.6"
  }
 },
 "nbformat": 4,
 "nbformat_minor": 5
}
