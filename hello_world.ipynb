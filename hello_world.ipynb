{
 "cells": [
  {
   "cell_type": "markdown",
   "id": "c261cbbc",
   "metadata": {},
   "source": [
    "# Pennylane\n",
    "A package for quantum machine learnin"
   ]
  },
  {
   "cell_type": "code",
   "execution_count": 5,
   "id": "3db77d9b",
   "metadata": {},
   "outputs": [
    {
     "name": "stdout",
     "output_type": "stream",
     "text": [
      "Pennylane has been successfully imported!\n"
     ]
    }
   ],
   "source": [
    "import pennylane as qml\n",
    "print(\"Pennylane has been successfully imported!\")"
   ]
  },
  {
   "cell_type": "code",
   "execution_count": 7,
   "id": "cf65a703",
   "metadata": {},
   "outputs": [
    {
     "name": "stdout",
     "output_type": "stream",
     "text": [
      "Algorithm has been run successfully\n"
     ]
    }
   ],
   "source": [
    "dev = qml.device(\"default.qubit\" , wires = 1)\n",
    "print(\"Algorithm has been run successfully\")"
   ]
  },
  {
   "cell_type": "code",
   "execution_count": null,
   "id": "09709a67",
   "metadata": {},
   "outputs": [],
   "source": []
  },
  {
   "cell_type": "code",
   "execution_count": null,
   "id": "dba03923",
   "metadata": {},
   "outputs": [],
   "source": []
  }
 ],
 "metadata": {
  "kernelspec": {
   "display_name": ".venv",
   "language": "python",
   "name": "python3"
  },
  "language_info": {
   "codemirror_mode": {
    "name": "ipython",
    "version": 3
   },
   "file_extension": ".py",
   "mimetype": "text/x-python",
   "name": "python",
   "nbconvert_exporter": "python",
   "pygments_lexer": "ipython3",
   "version": "3.10.6"
  }
 },
 "nbformat": 4,
 "nbformat_minor": 5
}
