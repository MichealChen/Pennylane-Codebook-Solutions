{
 "cells": [
  {
   "cell_type": "code",
   "execution_count": 27,
   "id": "826bd024",
   "metadata": {},
   "outputs": [],
   "source": [
    "import pennylane as qml\n",
    "from pennylane import numpy as np"
   ]
  },
  {
   "cell_type": "code",
   "execution_count": null,
   "id": "30bcdbea",
   "metadata": {},
   "outputs": [],
   "source": [
    "# More general case\n",
    "num_wires = 3\n",
    "dev = qml.device('default.qubit', wires = num_wires)\n",
    "@qml.qnode(dev)\n",
    "def make_basis_state(basis_id):\n",
    "\n",
    "    binary_id = np.binary_repr(basis_id, width = num_wires) # Control the number of binary bitsting\n",
    "    for i, bit in enumerate(binary_id):\n",
    "        if bit == '1':\n",
    "            qml.PauliX(wires = i)\n",
    "\n",
    "\n",
    "    return qml.state()"
   ]
  },
  {
   "cell_type": "code",
   "execution_count": 42,
   "id": "acf9b56e",
   "metadata": {},
   "outputs": [
    {
     "name": "stdout",
     "output_type": "stream",
     "text": [
      "Output state = [0.+0.j 0.+0.j 0.+0.j 1.+0.j 0.+0.j 0.+0.j 0.+0.j 0.+0.j]\n"
     ]
    }
   ],
   "source": [
    "basis_id = 3\n",
    "print(f\"Output state = {make_basis_state(basis_id)}\")"
   ]
  },
  {
   "cell_type": "code",
   "execution_count": null,
   "id": "7982cf32",
   "metadata": {},
   "outputs": [],
   "source": []
  }
 ],
 "metadata": {
  "kernelspec": {
   "display_name": ".venv",
   "language": "python",
   "name": "python3"
  },
  "language_info": {
   "codemirror_mode": {
    "name": "ipython",
    "version": 3
   },
   "file_extension": ".py",
   "mimetype": "text/x-python",
   "name": "python",
   "nbconvert_exporter": "python",
   "pygments_lexer": "ipython3",
   "version": "3.10.6"
  }
 },
 "nbformat": 4,
 "nbformat_minor": 5
}
