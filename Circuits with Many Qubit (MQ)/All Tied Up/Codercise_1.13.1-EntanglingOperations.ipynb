{
 "cells": [
  {
   "cell_type": "code",
   "execution_count": 1,
   "id": "9255a45e",
   "metadata": {},
   "outputs": [],
   "source": [
    "import pennylane as qml\n",
    "from pennylane import numpy as np"
   ]
  },
  {
   "cell_type": "code",
   "execution_count": 4,
   "id": "a4d7498f",
   "metadata": {},
   "outputs": [],
   "source": [
    "num_wires = 2\n",
    "dev = qml.device('default.qubit', wires = num_wires)\n",
    "@qml.qnode(dev)\n",
    "def apply_cnot(basis_id):\n",
    "\n",
    "    binary_id = np.binary_repr(basis_id, width = num_wires)\n",
    "\n",
    "    for i, bit in enumerate(binary_id):\n",
    "        if bit == '1':\n",
    "            qml.PauliX(wires = i)\n",
    "\n",
    "    qml.CNOT(wires = [0, 1])\n",
    "\n",
    "    return qml.state()"
   ]
  },
  {
   "cell_type": "code",
   "execution_count": 18,
   "id": "7b4fda8a",
   "metadata": {},
   "outputs": [
    {
     "name": "stdout",
     "output_type": "stream",
     "text": [
      "[1.+0.j 0.+0.j 0.+0.j 0.+0.j]\n",
      "{'00': '00', '01': '01', '10': '11', '11': '10'}\n"
     ]
    }
   ],
   "source": [
    "# REPLACE THE BIT STRINGS VALUES BELOW WITH THE CORRECT ONES\n",
    "cnot_truth_table = {\"00\": \"00\", \"01\": \"00\", \"10\": \"00\", \"11\": \"00\"}\n",
    "\n",
    "\n",
    "# Run your QNode with various inputs to help fill in your truth table\n",
    "print(apply_cnot(0))\n",
    "\n",
    "def state_string(state):\n",
    "    state_id = np.argmax(np.abs(state))\n",
    "\n",
    "    return np.binary_repr(state_id, width = num_wires)\n",
    "\n",
    "def truth_table():\n",
    "    table = {}\n",
    "\n",
    "    for i in range(2 ** num_wires):\n",
    "        input_bit = np.binary_repr(i, width = num_wires)\n",
    "        output_state = apply_cnot(i)\n",
    "        output_bit = state_string(output_state)\n",
    "        table[input_bit] = output_bit\n",
    "\n",
    "    return table\n",
    "\n",
    "print(truth_table())\n"
   ]
  },
  {
   "cell_type": "code",
   "execution_count": null,
   "id": "4ecc5137",
   "metadata": {},
   "outputs": [],
   "source": []
  }
 ],
 "metadata": {
  "kernelspec": {
   "display_name": ".venv",
   "language": "python",
   "name": "python3"
  },
  "language_info": {
   "codemirror_mode": {
    "name": "ipython",
    "version": 3
   },
   "file_extension": ".py",
   "mimetype": "text/x-python",
   "name": "python",
   "nbconvert_exporter": "python",
   "pygments_lexer": "ipython3",
   "version": "3.10.6"
  }
 },
 "nbformat": 4,
 "nbformat_minor": 5
}
