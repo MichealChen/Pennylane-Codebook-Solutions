{
 "cells": [
  {
   "cell_type": "code",
   "execution_count": 1,
   "id": "78048e2c",
   "metadata": {},
   "outputs": [],
   "source": [
    "import pennylane as qml\n",
    "from pennylane import numpy as np"
   ]
  },
  {
   "cell_type": "code",
   "execution_count": 20,
   "id": "ac92e4be",
   "metadata": {},
   "outputs": [
    {
     "name": "stdout",
     "output_type": "stream",
     "text": [
      "[0.70710678+0.j 0.        +0.j 0.        +0.j 0.70710678+0.j]\n",
      "entangled\n"
     ]
    }
   ],
   "source": [
    "dev = qml.device('default.qubit', wires = 2)\n",
    "@qml.qnode(dev)\n",
    "def apply_h_cnot():\n",
    "    qml.Hadamard(wires = 0)\n",
    "    qml.CNOT(wires = [0, 1])\n",
    "    return qml.state()\n",
    "\n",
    "print(apply_h_cnot())\n",
    "\n",
    "def entanglement_witness(state):\n",
    "\n",
    "    density_mat = np.outer(state, np.conj(state))\n",
    "\n",
    "    density_mat = density_mat.reshape(2, 2, 2, 2)\n",
    "    density_mat_ptrace = np.trace(density_mat, axis1 = 2, axis2 = 3)\n",
    "    \n",
    "    density_mat_ptrace = density_mat_ptrace/ np.trace(density_mat_ptrace)\n",
    "\n",
    "    purity = np.trace(density_mat_ptrace @ density_mat_ptrace).real\n",
    "\n",
    "    if purity < 1:\n",
    "        return \"entangled\"\n",
    "    \n",
    "    else:\n",
    "        return \"separable\"\n",
    "\n",
    "state_status = entanglement_witness(apply_h_cnot())\n",
    "print(state_status)"
   ]
  }
 ],
 "metadata": {
  "kernelspec": {
   "display_name": ".venv",
   "language": "python",
   "name": "python3"
  },
  "language_info": {
   "codemirror_mode": {
    "name": "ipython",
    "version": 3
   },
   "file_extension": ".py",
   "mimetype": "text/x-python",
   "name": "python",
   "nbconvert_exporter": "python",
   "pygments_lexer": "ipython3",
   "version": "3.10.6"
  }
 },
 "nbformat": 4,
 "nbformat_minor": 5
}
