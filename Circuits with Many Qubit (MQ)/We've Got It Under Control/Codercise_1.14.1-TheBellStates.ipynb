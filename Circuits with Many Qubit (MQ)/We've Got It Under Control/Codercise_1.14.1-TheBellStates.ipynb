{
 "cells": [
  {
   "cell_type": "code",
   "execution_count": 1,
   "id": "d586ed9a",
   "metadata": {},
   "outputs": [],
   "source": [
    "import pennylane as qml\n",
    "from pennylane import numpy as np"
   ]
  },
  {
   "cell_type": "code",
   "execution_count": 8,
   "id": "9f84b8bd",
   "metadata": {},
   "outputs": [],
   "source": [
    "dev = qml.device('default.qubit', wires = 2)\n",
    "@qml.qnode(dev)\n",
    "def prepare_psi_plus():\n",
    "    qml.Hadamard(wires = 0)\n",
    "    qml.CNOT(wires = [0, 1])\n",
    "    return qml.state()\n",
    "\n",
    "@qml.qnode(dev)\n",
    "def prepare_psi_minus():\n",
    "    qml.PauliX(wires = 0)\n",
    "    qml.Hadamard(wires = 0)\n",
    "    qml.CNOT(wires = [0, 1])\n",
    "    return qml.state()\n",
    "    \n",
    "@qml.qnode(dev)\n",
    "def prepare_phi_plus():\n",
    "    qml.PauliX(wires= 1)\n",
    "    qml.Hadamard(wires = 0)\n",
    "    qml.CNOT(wires = [0, 1])\n",
    "    return qml.state()\n",
    "\n",
    "@qml.qnode(dev)\n",
    "def prepare_phi_minus():\n",
    "    qml.PauliX(wires = 0)\n",
    "    qml.PauliX(wires = 1)\n",
    "    qml.Hadamard(wires = 0)\n",
    "    qml.CNOT(wires = [0, 1])\n",
    "    return qml.state()"
   ]
  },
  {
   "cell_type": "code",
   "execution_count": 9,
   "id": "fbeeae52",
   "metadata": {},
   "outputs": [
    {
     "name": "stdout",
     "output_type": "stream",
     "text": [
      "|ψ_+> = [0.70710678+0.j 0.        +0.j 0.        +0.j 0.70710678+0.j]\n",
      "|ψ_-> = [ 0.70710678+0.j  0.        +0.j  0.        +0.j -0.70710678+0.j]\n",
      "|ϕ_+> = [0.        +0.j 0.70710678+0.j 0.70710678+0.j 0.        +0.j]\n",
      "|ϕ_-> = [ 0.        +0.j  0.70710678+0.j -0.70710678+0.j  0.        +0.j]\n"
     ]
    }
   ],
   "source": [
    "psi_plus = prepare_psi_plus()\n",
    "psi_minus = prepare_psi_minus()\n",
    "phi_plus = prepare_phi_plus()\n",
    "phi_minus = prepare_phi_minus()\n",
    "\n",
    "# Uncomment to print results\n",
    "print(f\"|ψ_+> = {psi_plus}\")\n",
    "print(f\"|ψ_-> = {psi_minus}\")\n",
    "print(f\"|ϕ_+> = {phi_plus}\")\n",
    "print(f\"|ϕ_-> = {phi_minus}\")"
   ]
  },
  {
   "cell_type": "code",
   "execution_count": null,
   "id": "d651afc2",
   "metadata": {},
   "outputs": [],
   "source": []
  }
 ],
 "metadata": {
  "kernelspec": {
   "display_name": ".venv",
   "language": "python",
   "name": "python3"
  },
  "language_info": {
   "codemirror_mode": {
    "name": "ipython",
    "version": 3
   },
   "file_extension": ".py",
   "mimetype": "text/x-python",
   "name": "python",
   "nbconvert_exporter": "python",
   "pygments_lexer": "ipython3",
   "version": "3.10.6"
  }
 },
 "nbformat": 4,
 "nbformat_minor": 5
}
