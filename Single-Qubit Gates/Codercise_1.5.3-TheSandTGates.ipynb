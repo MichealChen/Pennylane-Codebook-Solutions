{
 "cells": [
  {
   "cell_type": "code",
   "execution_count": 1,
   "id": "04d728e9",
   "metadata": {},
   "outputs": [],
   "source": [
    "import pennylane as qml\n",
    "from pennylane import numpy as np"
   ]
  },
  {
   "cell_type": "code",
   "execution_count": 3,
   "id": "b8ef0d32",
   "metadata": {},
   "outputs": [],
   "source": [
    "dev = qml.device(\"default.qubit\", wires = 0)\n",
    "@qml.qnode(dev)\n",
    "def many_rotation():\n",
    "    qml.Hadamard(wires = 0)\n",
    "    qml.S(wires = 0)\n",
    "    qml.adjoint(qml.T)(wires = 0)\n",
    "    qml.RZ(0.3, wires = 0)\n",
    "    qml.adjoint(qml.S)(wires = 0)\n",
    "    \n",
    "    return qml.state()"
   ]
  },
  {
   "cell_type": "code",
   "execution_count": 4,
   "id": "30aaab8f",
   "metadata": {},
   "outputs": [
    {
     "name": "stdout",
     "output_type": "stream",
     "text": [
      "[0.69916673-0.10566872j 0.56910461-0.41966647j]\n"
     ]
    }
   ],
   "source": [
    "print(many_rotation())"
   ]
  },
  {
   "cell_type": "code",
   "execution_count": null,
   "id": "96cd3683",
   "metadata": {},
   "outputs": [],
   "source": []
  }
 ],
 "metadata": {
  "kernelspec": {
   "display_name": ".venv",
   "language": "python",
   "name": "python3"
  },
  "language_info": {
   "codemirror_mode": {
    "name": "ipython",
    "version": 3
   },
   "file_extension": ".py",
   "mimetype": "text/x-python",
   "name": "python",
   "nbconvert_exporter": "python",
   "pygments_lexer": "ipython3",
   "version": "3.10.6"
  }
 },
 "nbformat": 4,
 "nbformat_minor": 5
}
