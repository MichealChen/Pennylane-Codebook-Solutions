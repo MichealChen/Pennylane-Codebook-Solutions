{
 "cells": [
  {
   "cell_type": "code",
   "execution_count": 1,
   "id": "3b0a8561",
   "metadata": {},
   "outputs": [],
   "source": [
    "import pennylane as qml\n",
    "from pennylane import numpy as np\n",
    "import matplotlib.pyplot as plt"
   ]
  },
  {
   "cell_type": "code",
   "execution_count": 3,
   "id": "9e4d874c",
   "metadata": {},
   "outputs": [],
   "source": [
    "dev = qml.device(\"default.qubit\", wires = 1)\n",
    "@qml.qnode(dev)\n",
    "def apply_rx(theta, state):\n",
    "    if state == 1:\n",
    "        qml.PauliX(wires = 0)\n",
    "\n",
    "    qml.RX(theta, wires = 0)\n",
    "\n",
    "    return qml.state()\n",
    "\n",
    "angles = np.linspace(0, 4*np.pi, 200)\n",
    "outputstates = np.array([apply_rx(t, 0) for t in angles])"
   ]
  },
  {
   "cell_type": "code",
   "execution_count": 7,
   "id": "6c9b4f52",
   "metadata": {},
   "outputs": [
    {
     "ename": "TypeError",
     "evalue": "draw() takes 0 positional arguments but 2 were given",
     "output_type": "error",
     "traceback": [
      "\u001b[1;31m---------------------------------------------------------------------------\u001b[0m",
      "\u001b[1;31mTypeError\u001b[0m                                 Traceback (most recent call last)",
      "Cell \u001b[1;32mIn[7], line 1\u001b[0m\n\u001b[1;32m----> 1\u001b[0m plot \u001b[38;5;241m=\u001b[39m \u001b[43mplt\u001b[49m\u001b[38;5;241;43m.\u001b[39;49m\u001b[43mdraw\u001b[49m\u001b[43m(\u001b[49m\u001b[43mangles\u001b[49m\u001b[43m,\u001b[49m\u001b[43m \u001b[49m\u001b[43moutputstates\u001b[49m\u001b[43m)\u001b[49m\n",
      "\u001b[1;31mTypeError\u001b[0m: draw() takes 0 positional arguments but 2 were given"
     ]
    }
   ],
   "source": [
    "plot = plt.draw(angles, outputstates)"
   ]
  },
  {
   "cell_type": "code",
   "execution_count": null,
   "id": "9062f649",
   "metadata": {},
   "outputs": [],
   "source": []
  }
 ],
 "metadata": {
  "kernelspec": {
   "display_name": ".venv",
   "language": "python",
   "name": "python3"
  },
  "language_info": {
   "codemirror_mode": {
    "name": "ipython",
    "version": 3
   },
   "file_extension": ".py",
   "mimetype": "text/x-python",
   "name": "python",
   "nbconvert_exporter": "python",
   "pygments_lexer": "ipython3",
   "version": "3.10.6"
  }
 },
 "nbformat": 4,
 "nbformat_minor": 5
}
