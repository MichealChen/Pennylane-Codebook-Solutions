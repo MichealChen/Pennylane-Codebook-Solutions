{
 "cells": [
  {
   "cell_type": "code",
   "execution_count": 2,
   "id": "dcb93604",
   "metadata": {},
   "outputs": [],
   "source": [
    "import pennylane as qml\n",
    "from pennylane import numpy as np"
   ]
  },
  {
   "cell_type": "code",
   "execution_count": 5,
   "id": "be5b60f3",
   "metadata": {},
   "outputs": [],
   "source": [
    "dev = qml.device(\"default.qubit\", wires = 1)\n",
    "U = np.array([[1, -1], [1, 1]]) * 0.5"
   ]
  },
  {
   "cell_type": "code",
   "execution_count": 12,
   "id": "b5af6926",
   "metadata": {},
   "outputs": [],
   "source": [
    "@qml.qnode(dev)\n",
    "def varied_initial_state(state):\n",
    "    if state == 1:\n",
    "        qml.PauliX(wires = 0)\n",
    "\n",
    "    qml.QubitUnitary(U, wires = 0)\n",
    "    return qml.state()"
   ]
  },
  {
   "cell_type": "code",
   "execution_count": 15,
   "id": "e482f41a",
   "metadata": {},
   "outputs": [
    {
     "name": "stdout",
     "output_type": "stream",
     "text": [
      "Initial State 0: [0.5+0.j 0.5+0.j]\n"
     ]
    }
   ],
   "source": [
    "zero_state = varied_initial_state(0)\n",
    "print(\"Initial State 0:\", zero_state)"
   ]
  },
  {
   "cell_type": "code",
   "execution_count": 16,
   "id": "5e55386c",
   "metadata": {},
   "outputs": [
    {
     "name": "stdout",
     "output_type": "stream",
     "text": [
      "Initial State 1: [-0.5+0.j  0.5+0.j]\n"
     ]
    }
   ],
   "source": [
    "one_state = varied_initial_state(1)\n",
    "print(\"Initial State 1:\", one_state)"
   ]
  },
  {
   "cell_type": "code",
   "execution_count": null,
   "id": "3991074b",
   "metadata": {},
   "outputs": [],
   "source": []
  }
 ],
 "metadata": {
  "kernelspec": {
   "display_name": ".venv",
   "language": "python",
   "name": "python3"
  },
  "language_info": {
   "codemirror_mode": {
    "name": "ipython",
    "version": 3
   },
   "file_extension": ".py",
   "mimetype": "text/x-python",
   "name": "python",
   "nbconvert_exporter": "python",
   "pygments_lexer": "ipython3",
   "version": "3.10.6"
  }
 },
 "nbformat": 4,
 "nbformat_minor": 5
}
